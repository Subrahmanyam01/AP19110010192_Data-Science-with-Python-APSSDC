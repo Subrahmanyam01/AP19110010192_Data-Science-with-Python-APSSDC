{
 "cells": [
  {
   "cell_type": "markdown",
   "metadata": {},
   "source": [
    "# Subrahmanyam.K , AP19110010192, CSE - E"
   ]
  },
  {
   "cell_type": "markdown",
   "metadata": {},
   "source": [
    "## Write a program to check whether the user eligible for vote or not\n"
   ]
  },
  {
   "cell_type": "code",
   "execution_count": 3,
   "metadata": {},
   "outputs": [
    {
     "name": "stdout",
     "output_type": "stream",
     "text": [
      "Enter age: 15\n",
      "Person is not eligible for Voting.\n"
     ]
    }
   ],
   "source": [
    "age = int(input(\"Enter age: \"))\n",
    "\n",
    "if age >= 18:\n",
    "    print(\"Person is eligible for Voting.\")\n",
    "else:\n",
    "    print(\"Person is not eligible for Voting.\")\n"
   ]
  },
  {
   "cell_type": "markdown",
   "metadata": {},
   "source": [
    "## Check the given number is positive or negative"
   ]
  },
  {
   "cell_type": "code",
   "execution_count": 4,
   "metadata": {},
   "outputs": [
    {
     "name": "stdout",
     "output_type": "stream",
     "text": [
      "Enter number: 5\n",
      "5 is positive\n"
     ]
    }
   ],
   "source": [
    "n = int(input(\"Enter number: \"))\n",
    "\n",
    "if n > 0:\n",
    "    print(n,\"is positive\")\n",
    "else:\n",
    "    print(n,\"Number is negative\")"
   ]
  },
  {
   "cell_type": "markdown",
   "metadata": {},
   "source": [
    "## Check the given number is even or odd if it's even check which is divisible by 4 or not"
   ]
  },
  {
   "cell_type": "code",
   "execution_count": 1,
   "metadata": {},
   "outputs": [
    {
     "name": "stdout",
     "output_type": "stream",
     "text": [
      "Enter a number: 16\n",
      "16 is even \n",
      "16 is divisible by 4\n"
     ]
    }
   ],
   "source": [
    "n = int(input(\"Enter a number: \"))\n",
    "\n",
    "if n%2:\n",
    "    \n",
    "    print(n,\"is odd\")\n",
    "    \n",
    "else:\n",
    "    \n",
    "    print(n,\"is even \")\n",
    "    if n%4:\n",
    "        \n",
    "        print(n,\"is not divisible by 4\")\n",
    "        \n",
    "    else:\n",
    "        print(n,\"is divisible by 4\")"
   ]
  },
  {
   "cell_type": "markdown",
   "metadata": {},
   "source": [
    "## Write a program to print student grade based on percentage like Distinction,pass or fail "
   ]
  },
  {
   "cell_type": "code",
   "execution_count": 2,
   "metadata": {},
   "outputs": [
    {
     "name": "stdout",
     "output_type": "stream",
     "text": [
      "Enter your percentage score: 70.00\n",
      "Passed , Grade : B \n"
     ]
    }
   ],
   "source": [
    "percentage = float(input(\"Enter your percentage score: \"))\n",
    "\n",
    "\n",
    "if(percentage >= 80):\n",
    "    \n",
    "    print(\"Passed in Distinction , Grade : A\")\n",
    "    \n",
    "elif(60 <= percentage <= 80):\n",
    "    \n",
    "    print(\"Passed , Grade : B \")\n",
    "    \n",
    "elif(40 <= percentage <= 60):\n",
    "    \n",
    "    print(\"Passed , Grade : C\")    \n",
    "\n",
    "else:\n",
    "    print(\"Failed\")"
   ]
  },
  {
   "cell_type": "markdown",
   "metadata": {},
   "source": [
    "## Check the given year is Leap or not"
   ]
  },
  {
   "cell_type": "code",
   "execution_count": 2,
   "metadata": {},
   "outputs": [
    {
     "name": "stdout",
     "output_type": "stream",
     "text": [
      "Enter year:1992\n",
      "1992 is a leap year\n"
     ]
    }
   ],
   "source": [
    "year = int(input(\"Enter year:\"))\n",
    "\n",
    "if (year % 4 == 0 and year % 100 != 0) or year % 400 == 0:\n",
    "    \n",
    "    print(year,\"is a leap year\")\n",
    "    \n",
    "else:\n",
    "    \n",
    "    print(year,\"is not a leap year\")"
   ]
  },
  {
   "cell_type": "code",
   "execution_count": null,
   "metadata": {},
   "outputs": [],
   "source": []
  }
 ],
 "metadata": {
  "kernelspec": {
   "display_name": "Python 3",
   "language": "python",
   "name": "python3"
  },
  "language_info": {
   "codemirror_mode": {
    "name": "ipython",
    "version": 3
   },
   "file_extension": ".py",
   "mimetype": "text/x-python",
   "name": "python",
   "nbconvert_exporter": "python",
   "pygments_lexer": "ipython3",
   "version": "3.7.3"
  }
 },
 "nbformat": 4,
 "nbformat_minor": 2
}
